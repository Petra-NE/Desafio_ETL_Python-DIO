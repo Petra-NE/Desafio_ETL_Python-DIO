{
  "nbformat": 4,
  "nbformat_minor": 0,
  "metadata": {
    "colab": {
      "provenance": [],
      "authorship_tag": "ABX9TyOO0/Zick4Ywuh9WrIbe+zS",
      "include_colab_link": true
    },
    "kernelspec": {
      "name": "python3",
      "display_name": "Python 3"
    },
    "language_info": {
      "name": "python"
    }
  },
  "cells": [
    {
      "cell_type": "markdown",
      "metadata": {
        "id": "view-in-github",
        "colab_type": "text"
      },
      "source": [
        "<a href=\"https://colab.research.google.com/github/Petra-NE/Desafio_ETL_Python-DIO/blob/main/Desafio_ETL_Python.ipynb\" target=\"_parent\"><img src=\"https://colab.research.google.com/assets/colab-badge.svg\" alt=\"Open In Colab\"/></a>"
      ]
    },
    {
      "cell_type": "markdown",
      "source": [
        "**Extract**\n",
        "\n",
        "Extraia a lista de IDs de usuário a partir do arquivo CSV para obter os dados do funcionário correspondente."
      ],
      "metadata": {
        "id": "tXBqPCLKJy-R"
      }
    },
    {
      "cell_type": "code",
      "execution_count": 24,
      "metadata": {
        "colab": {
          "base_uri": "https://localhost:8080/"
        },
        "id": "Ud5BGM3HJIte",
        "outputId": "0d6d41da-44a3-4694-fa99-d37720227a86"
      },
      "outputs": [
        {
          "output_type": "stream",
          "name": "stdout",
          "text": [
            "             Nome                   Função  Ano de contratação\n",
            "0   João da Silva                  Gerente                2022\n",
            "1  Maria do Carmo     Analista de Sistemas                2021\n",
            "2     José Carlos              Programador                2022\n",
            "3       Ana Paula           Desenvolvedora                2019\n",
            "4  Pedro Henrique          Suporte Técnico                2018\n",
            "5  Rafaela Santos  Operador de Call Center                2017\n",
            "6  Carlos Eduardo   Auxiliar de Escritório                2017\n",
            "7     Ana Beatriz            Recepcionista                2022\n"
          ]
        }
      ],
      "source": [
        "import pandas as pd\n",
        "\n",
        "# Lê um arquivo CSV\n",
        "dados = pd.read_csv('Planilha_Funcionarios.csv')\n",
        "print(dados)"
      ]
    },
    {
      "cell_type": "markdown",
      "source": [
        "**Transform**\n",
        "\n",
        "Nesta etapa, você limpa, manipula e transforma os dados de acordo com as necessidades do seu projeto. Isso pode envolver renomear colunas, filtrar dados, realizar cálculos, etc"
      ],
      "metadata": {
        "id": "I9Ca2cdLKSwy"
      }
    },
    {
      "cell_type": "code",
      "source": [
        "# Filtra o DataFrame para obter apenas as linhas de um determinado ano\n",
        "ano_filtrado = 2022\n",
        "filtered_data = dados[dados['Ano de contratação'] == ano_filtrado]\n",
        "\n",
        "# Seleciona apenas as colunas de interesse (nome, função e ano_contratacao)\n",
        "colunas_interesse = ['Nome', 'Função', 'Ano de contratação']\n",
        "filtered_data = filtered_data[colunas_interesse]\n",
        "\n",
        "# Verifica se os dados filtrados estão vazios\n",
        "if filtered_data.empty:\n",
        "    print(\"Não há funcionários no ano selecionado.\")\n",
        "else:\n",
        "    # Exibe os dados filtrados\n",
        "    print(filtered_data)"
      ],
      "metadata": {
        "colab": {
          "base_uri": "https://localhost:8080/"
        },
        "id": "-93KmucEMHOv",
        "outputId": "d00ad836-d4ea-4fc8-b462-393fccd0a479"
      },
      "execution_count": 29,
      "outputs": [
        {
          "output_type": "stream",
          "name": "stdout",
          "text": [
            "            Nome         Função  Ano de contratação\n",
            "0  João da Silva        Gerente                2022\n",
            "2    José Carlos    Programador                2022\n",
            "7    Ana Beatriz  Recepcionista                2022\n"
          ]
        }
      ]
    },
    {
      "cell_type": "markdown",
      "source": [
        "**Load**\n",
        "\n",
        "modificar arquivo csv para um arquivo Excel."
      ],
      "metadata": {
        "id": "k_ImrKunKh3V"
      }
    },
    {
      "cell_type": "code",
      "source": [
        "import pandas as pd\n",
        "\n",
        "# Cria um DataFrame a partir dos dados\n",
        "df = pd.DataFrame(dados)\n",
        "\n",
        "# Caminho do arquivo Excel\n",
        "arquivo_excel = 'funcionarios2.xlsx'\n",
        "\n",
        "# Salva o DataFrame em um arquivo Excel\n",
        "df.to_excel(arquivo_excel, index=False)\n"
      ],
      "metadata": {
        "id": "HHM84ZO6Ng2o"
      },
      "execution_count": 30,
      "outputs": []
    }
  ]
}